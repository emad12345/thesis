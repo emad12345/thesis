{
 "cells": [
  {
   "metadata": {},
   "cell_type": "markdown",
   "source": [
    "class for classification\n",
    "x = n days , y = up , down , no change for each batch\n",
    "\n"
   ],
   "id": "284cc4385db8bdc7"
  },
  {
   "metadata": {
    "collapsed": true
   },
   "cell_type": "code",
   "outputs": [],
   "execution_count": null,
   "source": [
    "import torch\n",
    "from torch.utils.data import Dataset\n",
    "\n",
    "class FinanceDataset(Dataset):\n",
    "    def __init__(self, data, sequence_length=20, target_col='Close'):\n",
    "        self.sequence_length = sequence_length\n",
    "        self.target_col = target_col\n",
    "\n",
    "        self.data = data\n",
    "        self.data.drop(columns=['date'] , inplace=True)\n",
    "        self.features = data.drop(columns=[target_col]).values\n",
    "        self.targets = data[target_col].values\n",
    "\n",
    "        self.X, self.y = self.create_sequences()\n",
    "\n",
    "    def create_sequences(self):\n",
    "        X, y = [], []\n",
    "        for i in range(len(self.data) - self.sequence_length):\n",
    "            seq_x = self.features[i:i+self.sequence_length]\n",
    "            seq_y = self.targets[i+self.sequence_length]\n",
    "            X.append(seq_x)\n",
    "            y.append(seq_y)\n",
    "        return torch.tensor(X, dtype=torch.float32), torch.tensor(y, dtype=torch.float32).unsqueeze(1)\n",
    "\n",
    "    def __len__(self):\n",
    "        return len(self.X)\n",
    "\n",
    "    def __getitem__(self, idx):\n",
    "        return self.X[idx], self.y[idx]\n"
   ],
   "id": "initial_id"
  },
  {
   "metadata": {},
   "cell_type": "markdown",
   "source": [
    "class for forcast\n",
    "x =  n days , y = m day for each batch"
   ],
   "id": "c2353393c02020b8"
  },
  {
   "metadata": {},
   "cell_type": "code",
   "outputs": [],
   "execution_count": null,
   "source": "",
   "id": "19882ee46cc9b121"
  },
  {
   "metadata": {},
   "cell_type": "markdown",
   "source": "",
   "id": "9e62bc2b10703adc"
  }
 ],
 "metadata": {
  "kernelspec": {
   "display_name": "Python 3",
   "language": "python",
   "name": "python3"
  },
  "language_info": {
   "codemirror_mode": {
    "name": "ipython",
    "version": 2
   },
   "file_extension": ".py",
   "mimetype": "text/x-python",
   "name": "python",
   "nbconvert_exporter": "python",
   "pygments_lexer": "ipython2",
   "version": "2.7.6"
  }
 },
 "nbformat": 4,
 "nbformat_minor": 5
}
